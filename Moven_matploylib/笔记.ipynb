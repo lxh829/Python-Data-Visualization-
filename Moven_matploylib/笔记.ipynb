{
 "cells": [
  {
   "cell_type": "code",
   "execution_count": 1,
   "metadata": {
    "collapsed": true
   },
   "outputs": [
    {
     "name": "stdout",
     "output_type": "stream",
     "text": [
      "WARNING:tensorflow:From C:\\Users\\Administrator\\Anaconda3\\lib\\site-packages\\tensorflow\\python\\util\\tf_should_use.py:118: initialize_all_variables (from tensorflow.python.ops.variables) is deprecated and will be removed after 2017-03-02.\nInstructions for updating:\nUse `tf.global_variables_initializer` instead.\n"
     ]
    },
    {
     "name": "stdout",
     "output_type": "stream",
     "text": [
      "0 [ 0.21879049] [ 0.31049553]\n20 [ 0.12147363] [ 0.28958195]\n40 [ 0.1050102] [ 0.29756927]\n60 [ 0.10116897] [ 0.29943287]\n80 [ 0.10027274] [ 0.29986769]\n100 [ 0.10006364] [ 0.29996914]\n120 [ 0.10001486] [ 0.2999928]\n140 [ 0.10000347] [ 0.29999831]\n160 [ 0.10000084] [ 0.29999959]\n180 [ 0.1000002] [ 0.29999992]\n200 [ 0.10000006] [ 0.29999998]\n"
     ]
    }
   ],
   "source": [
    "###P5. 例子2\n",
    "\n",
    "import tensorflow as tf\n",
    "import numpy as np\n",
    "\n",
    "\n",
    "#create data\n",
    "x_data = np.random.rand(100).astype(np.float32)\n",
    "    #rand(d0,d1,...,dn) 随机生成1维，二维，n维随机数，类型为float32\n",
    "y_data = x_data * 0.1 + 0.3\n",
    "\n",
    "\n",
    "#create tensorflow structure start###\n",
    "Weights = tf.Variable(tf.random_uniform([1],-1.0,1.0))\n",
    "    #Weights 是tf中的一个变量，这个tf中的变量随机产生\n",
    "    #random_uniform(shape, minval=0, maxval=None) shape:维度,minval:最小值,maxval：最大值\n",
    "biases = tf.Variable(tf.zeros([1]))\n",
    "    #tf.zeros()代表创建的所有n维元素都是0   tf.zeros([3, 4])  # [[0, 0, 0, 0], [0, 0, 0, 0], [0, 0, 0, 0]]\n",
    "\n",
    "y = Weights * x_data + biases\n",
    "d = tf.square(y - y_data)      #d = (y-y_data)^2\n",
    "loss = tf.reduce_mean(d)\n",
    "   # loss=[(y-y_data)^2] * n     #n是 y-y_data的个数\n",
    "\n",
    "optimizer = tf.train.GradientDescentOptimizer(0.5)  #优化\n",
    "train = optimizer.minimize(loss)        #取到optimizer中loss的最小值\n",
    "\n",
    "init = tf.initialize_all_variables()    #初始化,激活所有的变量\n",
    "\n",
    "#create tensorflow structure end###\n",
    "\n",
    "\n",
    "#Very important\n",
    "sess = tf.Session()     #需要在启动session之前构建整个计算图\n",
    "sess.run(init)          #运行并启动该计算图  （）中表示要启动的位置，相当于指针\n",
    "\n",
    "\n",
    "for step in range(201): #[0,201)  201步\n",
    "    sess.run(train)\n",
    "    if step %20 == 0:   # %  求余\n",
    "\n",
    "        print(step,sess.run(Weights),sess.run(biases))  \n",
    "        #Weights和biases 是 tensor(张量)，无法直接输出，只能通过sess.run 输出\n",
    "#张量tensor在TensorFlow中的实现并不是直接采用数组形式，他只是对TensorFlow中的运算结果进行引用，\n",
    "# 在张量中并没有真正的保存数字，只是保存的是如何得到这些数字的计算过程。\n",
    "\n",
    "\n",
    "\n"
   ]
  },
  {
   "cell_type": "code",
   "execution_count": 4,
   "metadata": {},
   "outputs": [
    {
     "name": "stdout",
     "output_type": "stream",
     "text": [
      "[[86 44 61]\n [94 38 73]]\n[[86 44 61]\n [94 38 73]]\n"
     ]
    }
   ],
   "source": [
    "### P6.Session 会话控制   的2种打开模式\n",
    "import tensorflow as tf\n",
    "import numpy as np\n",
    "\n",
    "matrix1 = tf.constant([[3,4,5],      #  constant:精确值 ，最外面的[]表示这个矩阵，里面的[]表示一行，‘,'表示列\n",
    "                      [5,2,7]])\n",
    "matrix2 = tf.constant([[3,2,7],\n",
    "                      [8,7,5],\n",
    "                      [9,2,4]])\n",
    "product = tf.matmul(matrix1,matrix2) #matmul = matrix mulmultiply 矩阵相乘\n",
    "                                     #matrix multiply np.dot(m1,m2) 矩阵点乘\n",
    "#method 1\n",
    "sess = tf.Session()\n",
    "result = sess.run(product)\n",
    "print(result)\n",
    "sess.close()\n",
    "#method 2\n",
    "with tf.Session() as sess:\n",
    "    result2 = sess.run(product)\n",
    "    print(result2)\n"
   ]
  },
  {
   "cell_type": "code",
   "execution_count": 38,
   "metadata": {},
   "outputs": [
    {
     "name": "stdout",
     "output_type": "stream",
     "text": [
      "2\n4\n6\n"
     ]
    }
   ],
   "source": [
    "###P7  variable  变量的定义\n",
    "import tensorflow as tf \n",
    "\n",
    "state = tf.Variable(0, name='counter')\n",
    "one = tf.Variable(2)\n",
    "\n",
    "new_value = tf.add(state, one)\n",
    "update = tf.assign(state, new_value)\n",
    "            #assign分配，把new_value的值输入到state中，并输入到update中\n",
    "\n",
    "init = tf.global_variables_initializer()\n",
    "\n",
    "sess = tf.Session()\n",
    "sess.run(init)\n",
    "for _ in range(3):\n",
    "    sess.run(update)\n",
    "   \n",
    "    print(sess.run(state))   "
   ]
  },
  {
   "cell_type": "code",
   "execution_count": 43,
   "metadata": {},
   "outputs": [
    {
     "name": "stdout",
     "output_type": "stream",
     "text": [
      "[ 14.]\n"
     ]
    }
   ],
   "source": [
    "\n",
    "###P8 placeholder 传入值，占字符\n",
    "import tensorflow as tf\n",
    "\n",
    "input1 = tf.placeholder(tf.float32)\n",
    "input2 = tf.placeholder(tf.float32)\n",
    "\n",
    "#tf.placeholder(dtype,shape=None,name=None) \n",
    "# dtype=float32,float64...  shape=[m,n]  m行n列matrix\n",
    "\n",
    "output = tf.multiply(input1, input2)\n",
    "\n",
    "with tf.Session() as sess:\n",
    "    print(sess.run(output,feed_dict={input1:[7.], input2:[2.]}))\n"
   ]
  },
  {
   "cell_type": "code",
   "execution_count": 44,
   "metadata": {},
   "outputs": [],
   "source": [
    "###P9:激励函数activation function\n",
    "#现实没有我们想象的那么美好，他总是残酷多变的，233333\n",
    "#神经网络中的每个节点接受输入值，并将输入值传递给下一层。输入节点会将输入属性值直接传递给下一层（隐层或输出层）。\n",
    "# 在神经网络中，隐层和输出层节点的输入和输出之间具有函数关系，这个函数称为激励函数（Activation Function）\n",
    "# 最常用的激励函数(AF)relu,sigmoid,tanh等,这些AF必须是可以微分的，在反向传播时候才可以把误差传递回去\n",
    "#hidden layer不是很多时，随便使用，很多时要慎重。CNN一般使用relu，循环NN一般使用relu或tanh"
   ]
  },
  {
   "cell_type": "code",
   "execution_count": 46,
   "metadata": {},
   "outputs": [],
   "source": [
    "###10：添加层 def.add_layer()\n",
    "\n",
    "import tensorflow as tf\n",
    "\n",
    "def add_layer(inputs, in_size, out_size, activation_function=None):\n",
    "    Weights = tf.Variable(tf.random_normal([in_size, out_size]))\n",
    "    biases = tf.Variable(tf.random_zeros[1, out_size]) + 0.1\n",
    "    if activation_function is None:\n",
    "        outputs = Wx_plus_b\n",
    "    else:\n",
    "        outputs = activation_function(Wx_plus_b)\n",
    "    return outputs"
   ]
  },
  {
   "cell_type": "code",
   "execution_count": null,
   "metadata": {},
   "outputs": [
    {
     "ename": "SyntaxError",
     "evalue": "unexpected EOF while parsing (<ipython-input-3-3abaaff3c977>, line 61)",
     "traceback": [
      "\u001b[1;36m  File \u001b[1;32m\"<ipython-input-3-3abaaff3c977>\"\u001b[1;36m, line \u001b[1;32m61\u001b[0m\n\u001b[1;33m    \u001b[0m\n\u001b[1;37m    ^\u001b[0m\n\u001b[1;31mSyntaxError\u001b[0m\u001b[1;31m:\u001b[0m unexpected EOF while parsing\n"
     ],
     "output_type": "error"
    }
   ],
   "source": [
    "###11：bulid a neural network (建立一个新的神经网络)\n",
    "\n",
    "import tensorflow as tf \n",
    "import numpy as np\n",
    "\n",
    "def add_layer(inputs, in_size, out_size, activation_function=None):\n",
    "    Weights = tf.Variable(tf.random_normal([in_size, out_size]))\n",
    "    biases = tf.Variable(tf.zeros([1, out_size]) + 0.1)\n",
    "    #tf.zeros(shape,dtype=float32,name=None) shape:[m,n] m行n列 matrix\n",
    "    #C(i,j)=A(i,j)+B(j) 叫Broadcasting 广播\n",
    "    Wx_plus_b = tf.matmul(inputs, Weights) + biases\n",
    "    if activation_function is None:\n",
    "        outputs = Wx_plus_b\n",
    "    else:\n",
    "        outputs = activation_function(Wx_plus_b)\n",
    "    return outputs\n",
    "\n",
    "\n",
    "x_data = np.linspace(-1, 1, 300)[:, np.newaxis]\n",
    "#np.newaxis是分别在行或列上增加维度，原来是a=[0,1,2,3,4,5]是(6,)的数组,\n",
    "# 使用a[np.newaxis,:]在行上面增加一个维度变成(1,6) 1行6列(matrix)\n",
    "# 使用a[:,np.newaxis]在列上面增加一个维度变成(6,1) 6行1列(matrix)\n",
    "# 此行命令中np.linspace(-1, 1, 300)是一个300个数的一维数组，使用[:,np.newaxis]变成(300,1) 300行1列二维数组(matrix)\n",
    "noise = np.random.normal(0, 0.05, x_data.shape)\n",
    "y_data = np.square(x_data) - 0.5 + noise\n",
    "\n",
    "\n",
    "xs = tf.placeholder(tf.float32, [None, 1])\n",
    "ys = tf.placeholder(tf.float32, [None, 1])\n",
    "\n",
    "\n",
    "l1 = add_layer(xs, 1, 10, activation_function=tf.nn.relu)\n",
    "#由上面的add_layer()函数可以知道，此函数输出是outputs，所以l1是outputs，而outputs=Wx+b\n",
    "prediction = add_layer(l1, 10, 1,activation_function=None)\n",
    "\n",
    "loss = tf.reduce_mean(tf.reduce_sum(tf.square(ys - prediction),reduction_indices=[1]))\n",
    "#请查看维度shape理解\n",
    "#tf.reduce_sum(x, reduction_indices=[x])降维操作，sum:和\n",
    "# reduction_indices=[0]:按行进行降维\n",
    "# reduction_indices=[1]:按列进行降维\n",
    "# reduction_indices没有说明，默认把行列均进行降维\n",
    "# x = tf.constant([[1, 1, 1], [1, 1, 1]])\n",
    "# tf.reduce_sum(x)  # 6\n",
    "# tf.reduce_sum(x, 0)  # [2, 2, 2]    \n",
    "# tf.reduce_sum(x, 1)  # [3, 3]\n",
    "# tf.reduce_sum(x, 1, keepdims=True)  # [[3], [3]]\n",
    "# tf.reduce_sum(x, [0, 1])  # 6\n",
    "#tf.reduce_mean()   求平均值\n",
    "\n",
    "train_step = tf.train.GradientDescentOptimizer(0.1).minimize(loss)\n",
    "\n",
    "init = tf.global_variables_initializer()\n",
    "\n",
    "sess = tf.Session()\n",
    "sess.run(init)\n",
    "\n",
    "for i in range(400):\n",
    "    sess.run(train_step, feed_dict={xs:x_data, ys:y_data})\n",
    "    if i % 100:\n",
    "        print(sess.run(loss, feed_dict={xs:x_data, ys:y_data}))\n",
    "\n"
   ]
  },
  {
   "cell_type": "code",
   "execution_count": 7,
   "metadata": {},
   "outputs": [
    {
     "data": {
      "image/png": "[encoded data removed]",
      "text/plain": [
       "<Figure size 432x288 with 1 Axes>"
      ]
     },
     "metadata": {},
     "output_type": "display_data"
    }
   ],
   "source": [
    "###12：结果可视化 plot result\n",
    "import tensorflow as tf\n",
    "import numpy as np\n",
    "import matplotlib.pyplot as plt\n",
    "import matplotlib.animation as animation\n",
    "\n",
    "def add_layer(inputs, in_size, out_size, activation_function=None):\n",
    "    Weights = tf.Variable(tf.random_normal([in_size, out_size]))\n",
    "    biases = tf.Variable(tf.zeros([1, out_size]) + 0.1)\n",
    "    Wx_plus_b = tf.matmul(inputs, Weights) + biases\n",
    "    if activation_function is None:\n",
    "        outputs = Wx_plus_b\n",
    "    else:\n",
    "        outputs = activation_function(Wx_plus_b)\n",
    "    return outputs\n",
    "\n",
    "\n",
    "x_data = np.linspace(-1, 1, 300)[:, np.newaxis]\n",
    "noise = np.random.normal(0, 0.05, x_data.shape)\n",
    "y_data = np.square(x_data) - 0.5 + noise\n",
    "\n",
    "xs = tf.placeholder(tf.float32, [None, 1])\n",
    "ys = tf.placeholder(tf.float32, [None, 1])\n",
    "\n",
    "\n",
    "l1 = add_layer(xs, 1, 10, activation_function=tf.nn.relu)\n",
    "prediction = add_layer(l1, 10, 1,activation_function=None)\n",
    "loss = tf.reduce_mean(tf.reduce_sum(tf.square(ys - prediction),reduction_indices=[1]))\n",
    "train_step = tf.train.GradientDescentOptimizer(0.1).minimize(loss)\n",
    "\n",
    "\n",
    "init = tf.global_variables_initializer()\n",
    "\n",
    "###相比于P11需要增加的可视化内容\n",
    "fig = plt.figure()\n",
    "ax = fig.add_subplot(1,1,1)   #加入子图，占1行1列的第一个位置\n",
    "ax.scatter(x_data,y_data)     #scatter(分散) 散点图\n",
    "###end\n",
    "\n",
    "\n",
    "sess = tf.Session()\n",
    "sess.run(init)\n",
    "\n",
    "\n",
    "\n",
    "\n",
    "for i in range(400):\n",
    "    sess.run(train_step, feed_dict={xs:x_data, ys:y_data})\n",
    "    if i % 100 == 0:\n",
    "\n",
    "        # to see the step improvement\n",
    "        # print(sess.run(loss, feed_dict={xs:x_data, ys:y_data}))\n",
    "\n",
    "##相比于P11需要增加的可视化内容\n",
    "        try:\n",
    "            ax.lines.remove(lines[0])  #remove移除，再画下一条线(图形)之前移除画出的上一条线(图形)\n",
    "        except Exception:\n",
    "            pass\n",
    "            #try-except-pass  的作用：做异常处理使用，执行try下的语句,如果没发生异常继续执行，如果发生异常,则会跳到except下的语句\n",
    "\n",
    "        prediction_value = sess.run(prediction,feed_dict={xs:x_data})\n",
    "        lines = ax.plot(x_data,prediction_value,'r-',lw=5)\n",
    "\n",
    "        plt.pause(1) #pause暂停，多长时间更新一次\n",
    "plt.ioff()  #plot.ion() 打开交互模式   plot.ioff()  显示前关闭交互模式\n",
    "\n",
    "\n",
    "\n",
    "\n",
    "plt.show()  #显示 所绘制的图形\n",
    "###end\n",
    "\n",
    "\n"
   ]
  },
  {
   "cell_type": "code",
   "execution_count": null,
   "metadata": {},
   "outputs": [],
   "source": [
    "###P13:optimizer 优化器\n",
    "# tensorflow社区中：tf.train.名称来查看帮助文档\n",
    "#                  class tf.train.GradientDescentOptimizer\n",
    "#  《深度学习》第8章  optimizer"
   ]
  },
  {
   "cell_type": "code",
   "execution_count": 1,
   "metadata": {},
   "outputs": [],
   "source": [
    "###P14：Tensorboard  -  可视化神经网络\n",
    "#  基于上次的例子\n",
    "#  出现问题\n"
   ]
  },
  {
   "cell_type": "code",
   "execution_count": null,
   "metadata": {},
   "outputs": [],
   "source": [
    " "
   ]
  }
 ],
 "metadata": {
  "kernelspec": {
   "display_name": "Python 2",
   "language": "python",
   "name": "python2"
  },
  "language_info": {
   "codemirror_mode": {
    "name": "ipython",
    "version": 2
   },
   "file_extension": ".py",
   "mimetype": "text/x-python",
   "name": "python",
   "nbconvert_exporter": "python",
   "pygments_lexer": "ipython2",
   "version": "2.7.6"
  }
 },
 "nbformat": 4,
 "nbformat_minor": 0
}
