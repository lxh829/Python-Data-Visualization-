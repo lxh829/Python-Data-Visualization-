{
 "cells": [
  {
   "cell_type": "code",
   "execution_count": 17,
   "metadata": {
    "collapsed": false
   },
   "outputs": [
    {
     "name": "stdout",
     "output_type": "stream",
     "text": [
      "[[1 2 3]\n [1 2 3]]\nnumber of dim: 2\nshape: (2, 3)\nsize: 6\n"
     ]
    }
   ],
   "source": [
    "###1.样例\n",
    "\n",
    "import numpy as np\n",
    "\n",
    "array = np.array([[1,2,3],[1,2,3]])\n",
    "\n",
    "print(array)\n",
    "print('number of dim:',array.ndim)\n",
    "print('shape:',array.shape)\n",
    "print('size:',array.size)"
   ]
  },
  {
   "cell_type": "code",
   "execution_count": 3,
   "metadata": {},
   "outputs": [
    {
     "name": "stdout",
     "output_type": "stream",
     "text": [
      "[[ 2.  1.  3.]\n [ 1.  2.  3.]]\nfloat64\nint32\n[[0 0 0]\n [0 0 0]]\n[[ 1.  1.  1.  1.]\n [ 1.  1.  1.  1.]]\n[[ 2.  1.  3.]\n [ 1.  2.  3.]]\n[[ 0  2]\n [ 4  6]\n [ 8 10]]\n[[  0. ]\n [  2.5]\n [  5. ]\n [  7.5]\n [ 10. ]]\n"
     ]
    }
   ],
   "source": [
    "###2.使用numpy创建各种数组array\n",
    "import numpy as np\n",
    "\n",
    "a = np.array([[2,1,3],[1,2,3]],dtype=np.float)#如果是int默认是int32，如果是float默认是float64\n",
    "b = np.array([1,2,3],dtype=np.int)\n",
    "c = np.zeros((2,3),dtype=np.int)  #全部为0的矩阵\n",
    "d = np.ones((2,4))                #全部为1的矩阵\n",
    "e = np.empty((2,3))               #空的矩阵，几乎接近为0的矩阵，empty不初始化分配给a的内存\n",
    "f = np.arange(0,12,2).reshape((3,2))#arange(初始值，末位置，步长) ，对前面的数组reshape重新造型为3行2列\n",
    "g = np.linspace(0,10,5).reshape((5,1))#linspace线的空间(初始值，末位置，分为几个数字也就是说自动分配步长)\n",
    "\n",
    "\n",
    "print(a)\n",
    "print(a.dtype)\n",
    "print(b.dtype)\n",
    "print(c)\n",
    "print(d)\n",
    "print(e)\n",
    "print(f)\n",
    "print(g)"
   ]
  },
  {
   "cell_type": "code",
   "execution_count": 4,
   "metadata": {},
   "outputs": [
    {
     "name": "stdout",
     "output_type": "stream",
     "text": [
      "[10 20 30 40] [0 1 2 3]\n[10 21 32 43]\n[10 19 28 37]\n[ 0.          0.05        0.06666667  0.075     ]\n[0 1 4 9]\n[ 0.          8.41470985  9.09297427  1.41120008]\n[ 10.           5.40302306  -4.16146837  -9.89992497]\n[ True  True  True False]\n[False False False  True]\n[[1 2]\n [2 5]]\n[[0 1]\n [2 3]]\n[[ 0  2]\n [ 4 15]]\n[[ 4  7]\n [10 17]]\n[[ 4  7]\n [10 17]]\n[[  2.34620129e-01   4.26367843e-01   2.69717254e-01   3.89127561e-01]\n [  4.52032071e-01   2.16676798e-04   1.60678620e-01   4.46153415e-01]\n [  8.44354671e-01   2.57206296e-01   5.40098623e-01   4.64405731e-01]]\n4.48497889078\n0.000216676798396\n0.844354670892\n"
     ]
    }
   ],
   "source": [
    "###3.numpy的基础运算（1）\n",
    "import numpy as np\n",
    "\n",
    "a = np.array([10,20,30,40])\n",
    "b = np.arange(4)\n",
    "add = a + b\n",
    "sub = a - b\n",
    "div = b / a\n",
    "square = b ** 2\n",
    "sin = 10 * np.sin(b)\n",
    "cos = 10 * np.cos(b)  # x * np.三角函数名称（x）\n",
    "\n",
    "\n",
    "print(a, b)\n",
    "print(add)\n",
    "print(sub)\n",
    "print(div)\n",
    "print(square)\n",
    "print(sin)\n",
    "print(cos)\n",
    "\n",
    "print(b<3)  #b中小于3的是true，不小于3的是false\n",
    "print(b==3) #b中等于3的是true，不等于3的是false\n",
    "\n",
    "\n",
    "#矩阵相乘，2种，点乘和乘法法则\n",
    "import numpy as np\n",
    "\n",
    "f = np.array([[1,2],[2,5]])\n",
    "g = np.arange(4).reshape((2,2))\n",
    "mul = f * g\n",
    "mul_dot = np.dot(f,g)\n",
    "mul_dot2 = f.dot(g)   #和上面的np.dot(f,g)是一样的结果，不同的表达形式\n",
    "print(f)\n",
    "print(g)\n",
    "print(mul)\n",
    "print(mul_dot)\n",
    "print(mul_dot2)\n",
    "\n",
    "#使用numpy随机产生矩阵，数组等\n",
    "import numpy as np\n",
    "r = np.random.random((3,4))\n",
    "print(r)\n",
    "print(np.sum(r))    #得到r中所有元素的求和\n",
    "print(np.min(r))    #得到r中所有元素的最小值\n",
    "print(np.max(r))    #得到r中所有元素的最大值"
   ]
  },
  {
   "cell_type": "code",
   "execution_count": 5,
   "metadata": {},
   "outputs": [
    {
     "name": "stdout",
     "output_type": "stream",
     "text": [
      "[[ 2  3  4  5]\n [ 6  7  8  9]\n [10 11 12 13]]\n0\n11\n7.5\n7.5\n7.5\n7.5\n[ 2  5  9 14 20 27 35 44 54 65 77 90]\n[[1 1 1]\n [1 1 1]\n [1 1 1]]\n(array([0, 0, 0, 0, 1, 1, 1, 1, 2, 2, 2, 2], dtype=int64), array([0, 1, 2, 3, 0, 1, 2, 3, 0, 1, 2, 3], dtype=int64))\n[[ 2  3  4  5]\n [ 6  7  8  9]\n [10 11 12 13]]\n[[ 2  6 10]\n [ 3  7 11]\n [ 4  8 12]\n [ 5  9 13]]\n[[140 158 176 194]\n [158 179 200 221]\n [176 200 224 248]\n [194 221 248 275]]\n[[ 4  4  4  5]\n [ 6  7  8  9]\n [10 10 10 10]]\n"
     ]
    }
   ],
   "source": [
    "###4.numpy基础运算（2）\n",
    "\n",
    "import numpy as np\n",
    "\n",
    "A = np.arange(2,14).reshape((3,4))\n",
    "\n",
    "print(A)\n",
    "print(np.argmin(A)) #argmin 检索最小值出现的位置，如果出现多次最小值，则返回与第一次出现相对应的索引\n",
    "print(np.argmax(A)) #argmin 检索最大值出现的位置，如果出现多次最大值，则返回与第一次出现相对应的索引\n",
    "\n",
    "print(np.mean(A))  #与 print(A.mean())  print(np.average(A)) 是一样的\n",
    "print(A.mean())\n",
    "print(np.average(A)) #mean可以计算平均数，但average可以计算加权平均数\n",
    "\n",
    "print(np.median(A))  #计算A的中位数\n",
    "print(np.cumsum(A))  #  累加，第一个数=前一个数之和，第二个数=前两个数之和，...，第n个数=前n个数之和\n",
    "print(np.diff(A))    #  累差，第一个数=后一个数-前一个数，第n个数=后一个数-前一个数\n",
    "print(np.nonzero(A))  #可以找出非零的数的位置，shape=2\n",
    "print(np.sort(A))    #对A进行排序，按没一行来排序\n",
    "print(np.transpose(A)) # 对矩阵A进行转置，与命令  print(A.T) 同作用\n",
    "print((A.T).dot(A))   #注：A 与 T中间是点.\n",
    "print(np.clip(A,4,10)) #对A中的每一个元素进行判断，小于等于4的都用4来替代，大于等于10的都用10来替代，只保留4到10的数字\n"
   ]
  },
  {
   "cell_type": "code",
   "execution_count": 6,
   "metadata": {},
   "outputs": [
    {
     "name": "stdout",
     "output_type": "stream",
     "text": [
      "[[ 3  4  5  6]\n [ 7  8  9 10]\n [11 12 13 14]]\n[11 12 13 14]\n13\n[11 12 13 14]\n[ 5  9 13]\n[8]\n[8 9]\n[3 4 5 6]\n[ 7  8  9 10]\n[11 12 13 14]\n[ 3  7 11]\n[ 4  8 12]\n[ 5  9 13]\n[ 6 10 14]\n3\n4\n5\n6\n7\n8\n9\n10\n11\n12\n13\n14\n[ 3  4  5  6  7  8  9 10 11 12 13 14]\n"
     ]
    }
   ],
   "source": [
    "###5.numpy的索引\n",
    "import numpy as np\n",
    "\n",
    "A = np.arange(3,15).reshape((3,4))\n",
    "    #python中[1,5]左边是可以取到的值，右边的只是不可以取到的，左闭右开\n",
    "print(A)\n",
    "print(A[2])  #索引A的位置[2]的行\n",
    "print(A[2,2])#索引A的位置[2,2]，第三行，第三列的元素  ,次行命令与print(A[2][2])市一模一样的\n",
    "print(A[2,:])#索引第三行（也就是位置为2的行）的所有数字\n",
    "print(A[:,2])#索引第三列（也就是位置为2的列）的所有数字\n",
    "print(A[1, 1:2]) #索引第二行(位置1的行)的第二个数字(位置1上的数字)\n",
    "print(A[1, 1:3]) #索引第二行(位置1的行)的第二个和第三个数字(位置1和2上的数字)\n",
    "\n",
    "for row in A:  #for循环每一行的数字\n",
    "    print(row)\n",
    "for column in A.T:  #python中没有直接迭代每一列的命令，因此需要使用A.T转置来实现这个过程\n",
    "    print(column)\n",
    "\n",
    "for item in A.flat: #将A变成一位数组，变成一列，碾平\n",
    "    print(item)\n",
    "print(A.flatten())  #将A变成一位数组，变成一行，碾平\n",
    "\n"
   ]
  },
  {
   "cell_type": "code",
   "execution_count": 7,
   "metadata": {},
   "outputs": [
    {
     "name": "stdout",
     "output_type": "stream",
     "text": [
      "[[1 1 1]\n [2 2 2]]\n[1 1 1 2 2 2]\n[[1]\n [1]\n [1]]\n(3,) (2, 3) (6,)\n[[1 1 1]]\n[[1]\n [1]\n [1]]\n[[1]\n [1]\n [1]\n [1]\n [1]\n [1]\n [2]\n [2]\n [2]]\n[[1 1 2]\n [1 1 2]\n [1 1 2]]\n"
     ]
    }
   ],
   "source": [
    "###6.numpy的array合并\n",
    "\n",
    "import numpy as np\n",
    "A = np.array([1,1,1])\n",
    "B = np.array([2,2,2])\n",
    "C = np.vstack((A,B))       #vstack=vertical stack 垂直堆栈\n",
    "D = np.hstack((A,B))       #hstack=horizontal stack 水平堆栈\n",
    "E = A.reshape((3,1))       #将A的水平数列转变为垂直数列\n",
    "\n",
    "\n",
    "print(C)\n",
    "print(D)\n",
    "print(E)\n",
    "print(A.shape,C.shape,D.shape)     #A.shape=(3,)  C.shape=(2,3) D.shape=(6,)\n",
    "\n",
    "print(A[np.newaxis,:])        #在A的行上面增加一个维度，shape变为（1,3）\n",
    "print(A[:,np.newaxis])        #在A的列上面增加一个维度，shape变为（3,1）\n",
    "\n",
    "\n",
    "a = np.array([1,1,1])[:,np.newaxis]  # 2者作用一样，使用np.concatenate((a,b,a,b),axis=0)，axis=0在列上进行合并，axis=1，在行上进行合并\n",
    "b = np.array([2,2,2])[:,np.newaxis]\n",
    "c = np.vstack((a,a,b))\n",
    "d = np.hstack((a,a,b))\n",
    "\n",
    "print(c)\n",
    "print(d)"
   ]
  },
  {
   "cell_type": "code",
   "execution_count": 8,
   "metadata": {},
   "outputs": [
    {
     "name": "stdout",
     "output_type": "stream",
     "text": [
      "[[ 0  1  2  3]\n [ 4  5  6  7]\n [ 8  9 10 11]]\n[array([[0, 1],\n       [4, 5],\n       [8, 9]]), array([[ 2,  3],\n       [ 6,  7],\n       [10, 11]])]\n[array([[0, 1, 2, 3]]), array([[4, 5, 6, 7]]), array([[ 8,  9, 10, 11]])]\n[array([[0, 1],\n       [4, 5],\n       [8, 9]]), array([[ 2],\n       [ 6],\n       [10]]), array([[ 3],\n       [ 7],\n       [11]])]\n[array([[0, 1, 2, 3]]), array([[4, 5, 6, 7]]), array([[ 8,  9, 10, 11]])]\n[array([[0, 1],\n       [4, 5],\n       [8, 9]]), array([[ 2,  3],\n       [ 6,  7],\n       [10, 11]])]\n"
     ]
    }
   ],
   "source": [
    "###7.numpy的array的分割\n",
    "import numpy as np\n",
    "\n",
    "A = np.arange(12).reshape((3,4))\n",
    "\n",
    "\n",
    "print(A)\n",
    "#是等量分割\n",
    "print(np.split(A,2,axis=1))  #将axis=1 分成2分，代表行.将行分成2份\n",
    "print(np.split(A,3,axis=0))  #将axis=0 分成3分，代表列.将列分成3份\n",
    "#是不等量分割\n",
    "print(np.array_split(A,3,axis=1))  #array_split 进行不等量的分割，分为2,1,1\n",
    "\n",
    "#更简单的分割方式\n",
    "print(np.vsplit(A,3))   #vsplit=vertical split 垂直分割，将列分为3份\n",
    "print(np.hsplit(A,2))   #hsplit=horizontal solit 水平分割，将行分为2份\n"
   ]
  },
  {
   "cell_type": "code",
   "execution_count": 9,
   "metadata": {},
   "outputs": [
    {
     "name": "stdout",
     "output_type": "stream",
     "text": [
      "[0 1 2 3] [0 1 2 3] [0 1 2 3] [0 1 2 3]\n[2 1 2 3] [2 1 2 3] [2 1 2 3] [2 1 2 3]\n[2 1 8 3] [2 1 2 3]\n"
     ]
    }
   ],
   "source": [
    "###8.numpy的赋值，copy&deep copy\n",
    "import numpy as np\n",
    "\n",
    "a = np.arange(4)\n",
    "b = a\n",
    "c = a\n",
    "d = b\n",
    "print(a,b,c,d)   #a,b,c,d是一模一样的，改变其中的一个值，其他的三个值也会跟着改变\n",
    "a[0] = 2\n",
    "print(a,b,c,d)\n",
    "\n",
    "B = a.copy()\n",
    "a[2] = 8\n",
    "print(a,B)       #使用B = a.copy()  a[2]=8,仅仅是将a的第二个位置改变，但B是不会改变，a和B不关联，仅仅是将a的值赋给B\n",
    "\n",
    "\n",
    "\n"
   ]
  },
  {
   "cell_type": "code",
   "execution_count": 1,
   "metadata": {},
   "outputs": [],
   "source": [
    "###9.pandas 和 numpy\n",
    "\n",
    "#numpy是python科学计算的基础包，他提供多维数组对象，基于数组的各种派生对象（array，matrix）除此之外还提供各种各样的加快数组操作的例程，\n",
    "# 包括数学基本计算，逻辑，图形操作，排序，选择，输入输出，离散傅里叶变换，基础先线性代数，基础统计操作，随机仿真等额\n",
    "#numpy的核心是ndarray对象，一方面，ndarray对象封装了可以包含相同数据类型的多维数组，另一方面，为获得更好的性能，zaindarray上的操作都是在编译过的代码上执行的。\n",
    "\n",
    "\n",
    "#pandas是python的一个数据分析报，用于大规模数据的处理该工具是为了解决数据分析任务而创建的，pandas纳入了大量库和一些标准的数据模型，提供了高效的操作大型数据集所\n",
    "# 需的工具，pandas提供了大量能使我们快速便捷的处理数据的函数和方法，你会发现，pandas是使python成为强大而高效的数据分析环境的重要因素之一\n",
    "\n",
    "#pandas数据结构：1.series：一维数组，与numpy中的一维array类似，二者与python基本的数据结构list(表格)也很相近，其区别是：list\n",
    "#                        中的元素可以使不同的数据类型，二array和series中则只允许存储相同的数据类型，这样可以更有效的使用内存，提高运算效率\n",
    "#               2.Time-Series：以时间为索引的Series\n",
    "#               3.DataFrame:二维的表格型数据结构，很多功能与R语言中的data。frame类似，可以将DataFrame理解为Series的容器\n",
    "#               4.Panel:三位数组，可以理解为DataFrame的容器"
   ]
  },
  {
   "cell_type": "code",
   "execution_count": 2,
   "metadata": {},
   "outputs": [
    {
     "name": "stdout",
     "output_type": "stream",
     "text": [
      "0     1.0\n1     3.0\n2     6.0\n3     NaN\n4    44.0\n5     1.0\ndtype: float64\nDatetimeIndex(['2018-04-09', '2018-04-10', '2018-04-11', '2018-04-12',\n               '2018-04-13', '2018-04-14'],\n              dtype='datetime64[ns]', freq='D')\n                   a         b         c         d\n2018-04-09 -0.536366  0.556256  1.298912  0.134804\n2018-04-10 -1.051944  1.044428  0.552580 -1.412665\n2018-04-11 -0.204399  0.633618 -0.251785  0.267333\n2018-04-12  0.585190  0.054879 -0.327627  1.273452\n2018-04-13 -1.298657  0.165418 -0.781324 -0.361998\n2018-04-14  0.263558  0.514318 -0.444001  2.009585\n          0         1         2         3\n0 -1.215507 -0.053754  1.159941 -0.093273\n1  1.396909 -0.414391  1.123158 -0.745075\n2  1.745948 -1.334352 -0.942206 -0.041421\n3 -0.964427  0.217645  0.735766  1.082596\n4 -0.449026  0.367533  0.834627  0.952784\n5 -0.924533  1.931544 -1.104323  1.293432\n     A          B    C  D    E\n0  1.0 2013-01-02  1.0  3  foo\n1  1.0 2013-01-02  1.0  3  foo\n2  1.0 2013-01-02  1.0  3  foo\n3  1.0 2013-01-02  1.0  3  foo\nA           float64\nB    datetime64[ns]\nC           float64\nD             int32\nE            object\ndtype: object\nInt64Index([0, 1, 2, 3], dtype='int64')\nIndex(['A', 'B', 'C', 'D', 'E'], dtype='object')\n[[1.0 Timestamp('2013-01-02 00:00:00') 1.0 3 'foo']\n [1.0 Timestamp('2013-01-02 00:00:00') 1.0 3 'foo']\n [1.0 Timestamp('2013-01-02 00:00:00') 1.0 3 'foo']\n [1.0 Timestamp('2013-01-02 00:00:00') 1.0 3 'foo']]\n         A    C    D\ncount  4.0  4.0  4.0\nmean   1.0  1.0  3.0\nstd    0.0  0.0  0.0\nmin    1.0  1.0  3.0\n25%    1.0  1.0  3.0\n50%    1.0  1.0  3.0\n75%    1.0  1.0  3.0\nmax    1.0  1.0  3.0\n                     0                    1                    2  \\\nA                    1                    1                    1   \nB  2013-01-02 00:00:00  2013-01-02 00:00:00  2013-01-02 00:00:00   \nC                    1                    1                    1   \nD                    3                    3                    3   \nE                  foo                  foo                  foo   \n\n                     3  \nA                    1  \nB  2013-01-02 00:00:00  \nC                    1  \nD                    3  \nE                  foo  \n     E  D    C          B    A\n0  foo  3  1.0 2013-01-02  1.0\n1  foo  3  1.0 2013-01-02  1.0\n2  foo  3  1.0 2013-01-02  1.0\n3  foo  3  1.0 2013-01-02  1.0\n     A          B    C  D    E\n3  1.0 2013-01-02  1.0  3  foo\n2  1.0 2013-01-02  1.0  3  foo\n1  1.0 2013-01-02  1.0  3  foo\n0  1.0 2013-01-02  1.0  3  foo\n     A          B    C  D    E\n0  1.0 2013-01-02  1.0  3  foo\n1  1.0 2013-01-02  1.0  3  foo\n2  1.0 2013-01-02  1.0  3  foo\n3  1.0 2013-01-02  1.0  3  foo\n"
     ]
    }
   ],
   "source": [
    "###10.pandas基础介绍\n",
    "import pandas as pd\n",
    "import numpy as np\n",
    "\n",
    "s = pd.Series([1,3,6,np.nan,44,1]) #是一个list，自己加上0,1,2,3,4,5的序号，自己排序了已经，而且还打印出类型\n",
    "print(s)\n",
    "\n",
    "dates = pd.date_range('20180409',periods=6) #日期时间检索，dtype是日期的类型\n",
    "print(dates)\n",
    "\n",
    "df = pd.DataFrame(np.random.randn(6,4),index=dates,columns=['a','b','c','d']) #得到6行4列的表格，index代表表格的每一行的名称，\n",
    "print(df)                             #DataFrame 代表一个大的矩阵               #                columns代表表格每一列的名称\n",
    "\n",
    "df1 = pd.DataFrame(np.random.randn(6,4)) #不指定每一行和列的名称，系统会是用默认的名称，0,1,2，...\n",
    "print(df1)\n",
    "\n",
    "df2 = pd.DataFrame({'A':1.,\n",
    "                    'B':pd.Timestamp('20130102'),\n",
    "                    'C':pd.Series(1,index=list(range(4)),dtype='float64'),\n",
    "                    'D':np.array([3]*4,dtype=int),\n",
    "                    'E':'foo'})\n",
    "#对每一列的名称进行命名，行的名称使用默认值，{}代表字典\n",
    "print(df2)\n",
    "print(df2.dtypes) #打印出每一列的数据类型\n",
    "print(df2.index)  #打印出每一行的名称，不指定会默认打印出类型\n",
    "print(df2.columns)#打印出每一列的名称，不指定会默认打印出类型\n",
    "print(df2.values) #打印出每一行每一列的值\n",
    "print(df2.describe()) #打印出描述df2的一些基本参数\n",
    "print(df2.T) #对df2进行转置操作\n",
    "print(df2.sort_index(axis=1,ascending=False))   #axis=1,是对行进行排序，False是采用倒序，True是采用正序。此命令是对行采用倒序排序\n",
    "print(df2.sort_index(axis=0,ascending=False))   #axis=0,是对列进行排序，False是采用倒序，True是采用正序。此命令是对列采用倒序排序\n",
    "print(df2.sort_values(by='E'))                  #通过次行命令可以对里面单行或单列的值进行排序\n",
    "\n"
   ]
  },
  {
   "cell_type": "code",
   "execution_count": 1,
   "metadata": {},
   "outputs": [
    {
     "name": "stdout",
     "output_type": "stream",
     "text": [
      "             A   B   C   D\n2018-04-10   0   1   2   3\n2018-04-11   4   5   6   7\n2018-04-12   8   9  10  11\n2018-04-13  12  13  14  15\n2018-04-14  16  17  18  19\n2018-04-15  20  21  22  23\n2018-04-10     0\n2018-04-11     4\n2018-04-12     8\n2018-04-13    12\n2018-04-14    16\n2018-04-15    20\nFreq: D, Name: A, dtype: int32 2018-04-10     0\n2018-04-11     4\n2018-04-12     8\n2018-04-13    12\n2018-04-14    16\n2018-04-15    20\nFreq: D, Name: A, dtype: int32\n            A  B   C   D\n2018-04-10  0  1   2   3\n2018-04-11  4  5   6   7\n2018-04-12  8  9  10  11              A   B   C   D\n2018-04-10   0   1   2   3\n2018-04-11   4   5   6   7\n2018-04-12   8   9  10  11\n2018-04-13  12  13  14  15\nA    0\nB    1\nC    2\nD    3\nName: 2018-04-10 00:00:00, dtype: int32\n             A   B\n2018-04-10   0   1\n2018-04-11   4   5\n2018-04-12   8   9\n2018-04-13  12  13\n2018-04-14  16  17\n2018-04-15  20  21\nA    0\nB    1\nC    2\nName: 2018-04-10 00:00:00, dtype: int32\n13\n             B   C\n2018-04-13  13  14\n2018-04-14  17  18\n             B   D\n2018-04-11   5   7\n2018-04-13  13  15\n2018-04-15  21  23\n            A   C\n2018-04-10  0   2\n2018-04-11  4   6\n2018-04-12  8  10\n             A   B   C   D\n2018-04-10   0   1   2   3\n2018-04-11   4   5   6   7\n2018-04-12   8   9  10  11\n2018-04-13  12  13  14  15\n2018-04-14  16  17  18  19\n2018-04-15  20  21  22  23\n             A   B   C   D\n2018-04-13  12  13  14  15\n2018-04-14  16  17  18  19\n2018-04-15  20  21  22  23\n"
     ]
    },
    {
     "name": "stderr",
     "output_type": "stream",
     "text": [
      "C:\\Users\\Administrator\\Anaconda3\\lib\\site-packages\\ipykernel_launcher.py:22: DeprecationWarning: \n.ix is deprecated. Please use\n.loc for label based indexing or\n.iloc for positional indexing\n\nSee the documentation here:\nhttp://pandas.pydata.org/pandas-docs/stable/indexing.html#ix-indexer-is-deprecated\n"
     ]
    }
   ],
   "source": [
    "###11.pandas选择数据\n",
    "import numpy as np\n",
    "import pandas as pd\n",
    "\n",
    "datas = pd.date_range('20180410',periods=6)\n",
    "df = pd.DataFrame(np.arange(24).reshape((6,4)),index=datas,columns=['A','B','C','D'])\n",
    "\n",
    "print(df)\n",
    "print(df.A,df['A'])         #选择dataframe中的某一列,仅对列进行操作\n",
    "print(df[0:3],df['20180410':'20180413'])#是用切片操作选择dataframe中的某几行，仅对行进行操作\n",
    "#select by label:loc\n",
    "print(df.loc['20180410'])  #使用标签对行进行选取\n",
    "print(df.loc[:,['A','B']]) #使用标签对列进行选取\n",
    "print(df.loc['20180410',['A','B','C']]) #使用标签对行和列分别进行选取\n",
    "\n",
    "#select by position：iloc\n",
    "print(df.iloc[3,1])         #使用位置对某一个元素进行操作\n",
    "print(df.iloc[3:5,1:3])     #使用位置的切片操作对dataframe的子dataframe进行操作和选择。连续的选择\n",
    "print(df.iloc[[1,3,5],[1,3]]) #使用位置从dataframe中选择子datafram，非连续的选择\n",
    "\n",
    "#select by label and position：ix     （不建议使用）\n",
    "print(df.ix[:3,['A','C']])\n",
    "\n",
    "#boolean indexing\n",
    "print(df)\n",
    "print(df[df.A>8])   #显示帅选出大于8的行和列的子dataframe\n",
    "\n",
    "\n"
   ]
  },
  {
   "cell_type": "code",
   "execution_count": 3,
   "metadata": {},
   "outputs": [
    {
     "name": "stdout",
     "output_type": "stream",
     "text": [
      "             A   B    C   D\n2018-04-10   0   1    2   3\n2018-04-11   4   5    6   7\n2018-04-12   8   9  100  11\n2018-04-13  12  13   14  15\n2018-04-14  16  17   18  19\n2018-04-15  20  21   22  23\n             A    B    C   D\n2018-04-10   0  200    2   3\n2018-04-11   4    5    6   7\n2018-04-12   8    9  100  11\n2018-04-13  12   13   14  15\n2018-04-14  16   17   18  19\n2018-04-15  20   21   22  23\n            A    B  C  D\n2018-04-10  0  200  2  3\n2018-04-11  0    0  0  0\n2018-04-12  0    0  0  0\n2018-04-13  0    0  0  0\n2018-04-14  0    0  0  0\n2018-04-15  0    0  0  0\n            A    B  C  D\n2018-04-10  0  200  2  3\n2018-04-11  0    0  0  0\n2018-04-12  0    0  0  0\n2018-04-13  0    0  0  0\n2018-04-14  0    0  0  0\n2018-04-15  0    0  0  0\n            A    B  C  D   F\n2018-04-10  0  200  2  3 NaN\n2018-04-11  0    0  0  0 NaN\n2018-04-12  0    0  0  0 NaN\n2018-04-13  0    0  0  0 NaN\n2018-04-14  0    0  0  0 NaN\n2018-04-15  0    0  0  0 NaN\n            A    B  C  D   F  E\n2018-04-10  0  200  2  3 NaN  1\n2018-04-11  0    0  0  0 NaN  2\n2018-04-12  0    0  0  0 NaN  3\n2018-04-13  0    0  0  0 NaN  4\n2018-04-14  0    0  0  0 NaN  5\n2018-04-15  0    0  0  0 NaN  6\n"
     ]
    }
   ],
   "source": [
    "###12.pandas的设置值\n",
    "import numpy as np\n",
    "import pandas as pd\n",
    "\n",
    "dates = pd.date_range('20180410',periods=6)\n",
    "df = pd.DataFrame(np.arange(24).reshape((6,4)),index=dates,columns=['A','B','C','D'])\n",
    "\n",
    "df.iloc[2,2] = 100  #将位置2的行和位置2的列代表的元素变为100\n",
    "print(df)\n",
    "\n",
    "df.loc['20180410','B'] = 200  #将行的标签为20180410，列的标签为B所对应的元素变为200\n",
    "print(df)\n",
    "\n",
    "df[df.A>3] = 0      #把dataframe中大于3的数字全部变换为0\n",
    "print(df)\n",
    "\n",
    "df.A[df.A>3] = 0    #仅仅是把A这一列当中的大于3的数字替换为0\n",
    "print(df)\n",
    "\n",
    "df['F'] = np.nan    #将F这一列中的所有元素都变为nan\n",
    "print(df)\n",
    "\n",
    "df['E'] = pd.Series([1,2,3,4,5,6],index=pd.date_range('20180410',periods=6)) #加上一列E\n",
    "print(df)"
   ]
  },
  {
   "cell_type": "code",
   "execution_count": 4,
   "metadata": {},
   "outputs": [
    {
     "name": "stdout",
     "output_type": "stream",
     "text": [
      "             A     B     C   D\n2017-04-10   0   NaN   2.0   3\n2017-04-11   4   5.0   NaN   7\n2017-04-12   8   9.0  10.0  11\n2017-04-13  12  13.0  14.0  15\n2017-04-14  16  17.0  18.0  19\n2017-04-15  20  21.0  22.0  23\n             A     B     C   D\n2017-04-12   8   9.0  10.0  11\n2017-04-13  12  13.0  14.0  15\n2017-04-14  16  17.0  18.0  19\n2017-04-15  20  21.0  22.0  23\n             A     B     C   D\n2017-04-10   0   0.0   2.0   3\n2017-04-11   4   5.0   0.0   7\n2017-04-12   8   9.0  10.0  11\n2017-04-13  12  13.0  14.0  15\n2017-04-14  16  17.0  18.0  19\n2017-04-15  20  21.0  22.0  23\n                A      B      C      D\n2017-04-10  False   True  False  False\n2017-04-11  False  False   True  False\n2017-04-12  False  False  False  False\n2017-04-13  False  False  False  False\n2017-04-14  False  False  False  False\n2017-04-15  False  False  False  False\nTrue\n"
     ]
    }
   ],
   "source": [
    "###13.pandas处理丢失数据\n",
    "\n",
    "import numpy as np\n",
    "import pandas as pd\n",
    "\n",
    "dates = pd.date_range('20170410',periods=6)\n",
    "df = pd.DataFrame(np.arange(24).reshape((6,4)),index=dates,columns=['A','B','C','D'])\n",
    "df.iloc[0,1] = np.nan    #代表丢失的数据\n",
    "df.iloc[1,2] = np.nan    #代表丢失的数据\n",
    "\n",
    "print(df)\n",
    "\n",
    "print(df.dropna(axis=0,how='any'))\n",
    "#dropna丢掉丢失数据的位置，axis=0在这里表示行，how={’any‘，’all‘} any代表有一个丢失数据整行或整列均丢掉，all代表整行或整列数据全部丢失才丢失整行或整列\n",
    "print(df.fillna(value=0))  #把丢失的数据填充上值为0\n",
    "print(df.isnull())  #检查是否有缺失数据，在有缺失数据的位置上标记True，未缺失的数据上标记False\n",
    "print(np.any(df.isnull()) == True)  #在表个是否包含了True的值，有的话返回True"
   ]
  },
  {
   "cell_type": "code",
   "execution_count": 5,
   "metadata": {},
   "outputs": [
    {
     "ename": "FileNotFoundError",
     "evalue": "[Errno 2] No such file or directory: '可视化数据.csv'",
     "traceback": [
      "\u001b[1;31m---------------------------------------------------------------------------\u001b[0m",
      "\u001b[1;31mFileNotFoundError\u001b[0m                         Traceback (most recent call last)",
      "\u001b[1;32m<ipython-input-5-940fe939f914>\u001b[0m in \u001b[0;36m<module>\u001b[1;34m()\u001b[0m\n\u001b[0;32m      1\u001b[0m \u001b[1;31m###14.pandas数据的导入与导出\u001b[0m\u001b[1;33m\u001b[0m\u001b[1;33m\u001b[0m\u001b[0m\n\u001b[0;32m      2\u001b[0m \u001b[1;32mimport\u001b[0m \u001b[0mpandas\u001b[0m \u001b[1;32mas\u001b[0m \u001b[0mpd\u001b[0m\u001b[1;33m\u001b[0m\u001b[0m\n\u001b[1;32m----> 3\u001b[1;33m \u001b[0mdata\u001b[0m \u001b[1;33m=\u001b[0m \u001b[0mpd\u001b[0m\u001b[1;33m.\u001b[0m\u001b[0mread_csv\u001b[0m\u001b[1;33m(\u001b[0m\u001b[1;34m'可视化数据.csv'\u001b[0m\u001b[1;33m,\u001b[0m\u001b[0mengine\u001b[0m\u001b[1;33m=\u001b[0m\u001b[1;34m'python'\u001b[0m\u001b[1;33m)\u001b[0m\u001b[1;33m\u001b[0m\u001b[0m\n\u001b[0m\u001b[0;32m      4\u001b[0m \u001b[1;31m#如果文件名称是中文需要加engine='python'，否则会报错“初始化失败”\u001b[0m\u001b[1;33m\u001b[0m\u001b[1;33m\u001b[0m\u001b[0m\n\u001b[0;32m      5\u001b[0m \u001b[1;31m#如果文件名称是英文名称，则只需要pd.read_csv('可视化数据.csv')就行，不需要加后面的engine\u001b[0m\u001b[1;33m\u001b[0m\u001b[1;33m\u001b[0m\u001b[0m\n",
      "\u001b[1;32m~\\Anaconda3\\lib\\site-packages\\pandas\\io\\parsers.py\u001b[0m in \u001b[0;36mparser_f\u001b[1;34m(filepath_or_buffer, sep, delimiter, header, names, index_col, usecols, squeeze, prefix, mangle_dupe_cols, dtype, engine, converters, true_values, false_values, skipinitialspace, skiprows, nrows, na_values, keep_default_na, na_filter, verbose, skip_blank_lines, parse_dates, infer_datetime_format, keep_date_col, date_parser, dayfirst, iterator, chunksize, compression, thousands, decimal, lineterminator, quotechar, quoting, escapechar, comment, encoding, dialect, tupleize_cols, error_bad_lines, warn_bad_lines, skipfooter, skip_footer, doublequote, delim_whitespace, as_recarray, compact_ints, use_unsigned, low_memory, buffer_lines, memory_map, float_precision)\u001b[0m\n\u001b[0;32m    653\u001b[0m                     skip_blank_lines=skip_blank_lines)\n\u001b[0;32m    654\u001b[0m \u001b[1;33m\u001b[0m\u001b[0m\n\u001b[1;32m--> 655\u001b[1;33m         \u001b[1;32mreturn\u001b[0m \u001b[0m_read\u001b[0m\u001b[1;33m(\u001b[0m\u001b[0mfilepath_or_buffer\u001b[0m\u001b[1;33m,\u001b[0m \u001b[0mkwds\u001b[0m\u001b[1;33m)\u001b[0m\u001b[1;33m\u001b[0m\u001b[0m\n\u001b[0m\u001b[0;32m    656\u001b[0m \u001b[1;33m\u001b[0m\u001b[0m\n\u001b[0;32m    657\u001b[0m     \u001b[0mparser_f\u001b[0m\u001b[1;33m.\u001b[0m\u001b[0m__name__\u001b[0m \u001b[1;33m=\u001b[0m \u001b[0mname\u001b[0m\u001b[1;33m\u001b[0m\u001b[0m\n",
      "\u001b[1;32m~\\Anaconda3\\lib\\site-packages\\pandas\\io\\parsers.py\u001b[0m in \u001b[0;36m_read\u001b[1;34m(filepath_or_buffer, kwds)\u001b[0m\n\u001b[0;32m    403\u001b[0m \u001b[1;33m\u001b[0m\u001b[0m\n\u001b[0;32m    404\u001b[0m     \u001b[1;31m# Create the parser.\u001b[0m\u001b[1;33m\u001b[0m\u001b[1;33m\u001b[0m\u001b[0m\n\u001b[1;32m--> 405\u001b[1;33m     \u001b[0mparser\u001b[0m \u001b[1;33m=\u001b[0m \u001b[0mTextFileReader\u001b[0m\u001b[1;33m(\u001b[0m\u001b[0mfilepath_or_buffer\u001b[0m\u001b[1;33m,\u001b[0m \u001b[1;33m**\u001b[0m\u001b[0mkwds\u001b[0m\u001b[1;33m)\u001b[0m\u001b[1;33m\u001b[0m\u001b[0m\n\u001b[0m\u001b[0;32m    406\u001b[0m \u001b[1;33m\u001b[0m\u001b[0m\n\u001b[0;32m    407\u001b[0m     \u001b[1;32mif\u001b[0m \u001b[0mchunksize\u001b[0m \u001b[1;32mor\u001b[0m \u001b[0miterator\u001b[0m\u001b[1;33m:\u001b[0m\u001b[1;33m\u001b[0m\u001b[0m\n",
      "\u001b[1;32m~\\Anaconda3\\lib\\site-packages\\pandas\\io\\parsers.py\u001b[0m in \u001b[0;36m__init__\u001b[1;34m(self, f, engine, **kwds)\u001b[0m\n\u001b[0;32m    762\u001b[0m             \u001b[0mself\u001b[0m\u001b[1;33m.\u001b[0m\u001b[0moptions\u001b[0m\u001b[1;33m[\u001b[0m\u001b[1;34m'has_index_names'\u001b[0m\u001b[1;33m]\u001b[0m \u001b[1;33m=\u001b[0m \u001b[0mkwds\u001b[0m\u001b[1;33m[\u001b[0m\u001b[1;34m'has_index_names'\u001b[0m\u001b[1;33m]\u001b[0m\u001b[1;33m\u001b[0m\u001b[0m\n\u001b[0;32m    763\u001b[0m \u001b[1;33m\u001b[0m\u001b[0m\n\u001b[1;32m--> 764\u001b[1;33m         \u001b[0mself\u001b[0m\u001b[1;33m.\u001b[0m\u001b[0m_make_engine\u001b[0m\u001b[1;33m(\u001b[0m\u001b[0mself\u001b[0m\u001b[1;33m.\u001b[0m\u001b[0mengine\u001b[0m\u001b[1;33m)\u001b[0m\u001b[1;33m\u001b[0m\u001b[0m\n\u001b[0m\u001b[0;32m    765\u001b[0m \u001b[1;33m\u001b[0m\u001b[0m\n\u001b[0;32m    766\u001b[0m     \u001b[1;32mdef\u001b[0m \u001b[0mclose\u001b[0m\u001b[1;33m(\u001b[0m\u001b[0mself\u001b[0m\u001b[1;33m)\u001b[0m\u001b[1;33m:\u001b[0m\u001b[1;33m\u001b[0m\u001b[0m\n",
      "\u001b[1;32m~\\Anaconda3\\lib\\site-packages\\pandas\\io\\parsers.py\u001b[0m in \u001b[0;36m_make_engine\u001b[1;34m(self, engine)\u001b[0m\n\u001b[0;32m    993\u001b[0m                                  ' \"c\", \"python\", or' ' \"python-fwf\")'.format(\n\u001b[0;32m    994\u001b[0m                                      engine=engine))\n\u001b[1;32m--> 995\u001b[1;33m             \u001b[0mself\u001b[0m\u001b[1;33m.\u001b[0m\u001b[0m_engine\u001b[0m \u001b[1;33m=\u001b[0m \u001b[0mklass\u001b[0m\u001b[1;33m(\u001b[0m\u001b[0mself\u001b[0m\u001b[1;33m.\u001b[0m\u001b[0mf\u001b[0m\u001b[1;33m,\u001b[0m \u001b[1;33m**\u001b[0m\u001b[0mself\u001b[0m\u001b[1;33m.\u001b[0m\u001b[0moptions\u001b[0m\u001b[1;33m)\u001b[0m\u001b[1;33m\u001b[0m\u001b[0m\n\u001b[0m\u001b[0;32m    996\u001b[0m \u001b[1;33m\u001b[0m\u001b[0m\n\u001b[0;32m    997\u001b[0m     \u001b[1;32mdef\u001b[0m \u001b[0m_failover_to_python\u001b[0m\u001b[1;33m(\u001b[0m\u001b[0mself\u001b[0m\u001b[1;33m)\u001b[0m\u001b[1;33m:\u001b[0m\u001b[1;33m\u001b[0m\u001b[0m\n",
      "\u001b[1;32m~\\Anaconda3\\lib\\site-packages\\pandas\\io\\parsers.py\u001b[0m in \u001b[0;36m__init__\u001b[1;34m(self, f, **kwds)\u001b[0m\n\u001b[0;32m   1983\u001b[0m         f, handles = _get_handle(f, mode, encoding=self.encoding,\n\u001b[0;32m   1984\u001b[0m                                  \u001b[0mcompression\u001b[0m\u001b[1;33m=\u001b[0m\u001b[0mself\u001b[0m\u001b[1;33m.\u001b[0m\u001b[0mcompression\u001b[0m\u001b[1;33m,\u001b[0m\u001b[1;33m\u001b[0m\u001b[0m\n\u001b[1;32m-> 1985\u001b[1;33m                                  memory_map=self.memory_map)\n\u001b[0m\u001b[0;32m   1986\u001b[0m         \u001b[0mself\u001b[0m\u001b[1;33m.\u001b[0m\u001b[0mhandles\u001b[0m\u001b[1;33m.\u001b[0m\u001b[0mextend\u001b[0m\u001b[1;33m(\u001b[0m\u001b[0mhandles\u001b[0m\u001b[1;33m)\u001b[0m\u001b[1;33m\u001b[0m\u001b[0m\n\u001b[0;32m   1987\u001b[0m \u001b[1;33m\u001b[0m\u001b[0m\n",
      "\u001b[1;32m~\\Anaconda3\\lib\\site-packages\\pandas\\io\\common.py\u001b[0m in \u001b[0;36m_get_handle\u001b[1;34m(path_or_buf, mode, encoding, compression, memory_map, is_text)\u001b[0m\n\u001b[0;32m    383\u001b[0m         \u001b[1;32melif\u001b[0m \u001b[0mis_text\u001b[0m\u001b[1;33m:\u001b[0m\u001b[1;33m\u001b[0m\u001b[0m\n\u001b[0;32m    384\u001b[0m             \u001b[1;31m# Python 3 and no explicit encoding\u001b[0m\u001b[1;33m\u001b[0m\u001b[1;33m\u001b[0m\u001b[0m\n\u001b[1;32m--> 385\u001b[1;33m             \u001b[0mf\u001b[0m \u001b[1;33m=\u001b[0m \u001b[0mopen\u001b[0m\u001b[1;33m(\u001b[0m\u001b[0mpath_or_buf\u001b[0m\u001b[1;33m,\u001b[0m \u001b[0mmode\u001b[0m\u001b[1;33m,\u001b[0m \u001b[0merrors\u001b[0m\u001b[1;33m=\u001b[0m\u001b[1;34m'replace'\u001b[0m\u001b[1;33m)\u001b[0m\u001b[1;33m\u001b[0m\u001b[0m\n\u001b[0m\u001b[0;32m    386\u001b[0m         \u001b[1;32melse\u001b[0m\u001b[1;33m:\u001b[0m\u001b[1;33m\u001b[0m\u001b[0m\n\u001b[0;32m    387\u001b[0m             \u001b[1;31m# Python 3 and binary mode\u001b[0m\u001b[1;33m\u001b[0m\u001b[1;33m\u001b[0m\u001b[0m\n",
      "\u001b[1;31mFileNotFoundError\u001b[0m: [Errno 2] No such file or directory: '可视化数据.csv'"
     ],
     "output_type": "error"
    }
   ],
   "source": [
    "###14.pandas数据的导入与导出\n",
    "import pandas as pd\n",
    "data = pd.read_csv('可视化数据.csv',engine='python')\n",
    "#如果文件名称是中文需要加engine='python'，否则会报错“初始化失败”\n",
    "#如果文件名称是英文名称，则只需要pd.read_csv('可视化数据.csv')就行，不需要加后面的engine\n",
    "#原因：read——csv中engine参数默认是 C engine，在读取中文文档标题时会报错“OSError: Initializing from file failed”\n",
    "# 官方文档说C engine 更快，但python engine更完整\n",
    "print(data)  #会自动加上索引\n",
    "\n",
    "data.to_pickle('可视化数据.pickle')\n",
    "\n",
    "#课读取的文档格式：以及命令\n",
    "#pd.read_csv('file name') pd.read_excel('file name')\n",
    "# pd.read_hdf(),pd.read_sql(),pd.read_json(),pd.read_msgpack(),pd.read_html,pd.read_gbq(),pd.read_stata\n",
    "#pd.read_sas(),pd.read_clipboard(),pd.read_pickle()\n",
    "#\n",
    "#对于保存什么格式的数据只需用将read变为to即可\n",
    "\n",
    "\n"
   ]
  },
  {
   "cell_type": "code",
   "execution_count": 12,
   "metadata": {},
   "outputs": [
    {
     "name": "stdout",
     "output_type": "stream",
     "text": [
      "     a    b    c    d\n0  0.0  0.0  0.0  0.0\n1  0.0  0.0  0.0  0.0\n2  0.0  0.0  0.0  0.0\n     a    b    c    d\n0  1.0  1.0  1.0  1.0\n1  1.0  1.0  1.0  1.0\n2  1.0  1.0  1.0  1.0\n     a    b    c    d\n0  2.0  2.0  2.0  2.0\n1  2.0  2.0  2.0  2.0\n2  2.0  2.0  2.0  2.0\n     a    b    c    d\n0  0.0  0.0  0.0  0.0\n1  0.0  0.0  0.0  0.0\n2  0.0  0.0  0.0  0.0\n0  1.0  1.0  1.0  1.0\n1  1.0  1.0  1.0  1.0\n2  1.0  1.0  1.0  1.0\n0  2.0  2.0  2.0  2.0\n1  2.0  2.0  2.0  2.0\n2  2.0  2.0  2.0  2.0\n     a    b    c    d\n0  0.0  0.0  0.0  0.0\n1  0.0  0.0  0.0  0.0\n2  0.0  0.0  0.0  0.0\n3  1.0  1.0  1.0  1.0\n4  1.0  1.0  1.0  1.0\n5  1.0  1.0  1.0  1.0\n6  2.0  2.0  2.0  2.0\n7  2.0  2.0  2.0  2.0\n8  2.0  2.0  2.0  2.0\n    0    1    2    3    4    5    6    7    8    9    10   11\n0  0.0  0.0  0.0  0.0  1.0  1.0  1.0  1.0  2.0  2.0  2.0  2.0\n1  0.0  0.0  0.0  0.0  1.0  1.0  1.0  1.0  2.0  2.0  2.0  2.0\n2  0.0  0.0  0.0  0.0  1.0  1.0  1.0  1.0  2.0  2.0  2.0  2.0\n"
     ]
    }
   ],
   "source": [
    "###15(1).pandas  合并 concat---concatnating（串联）\n",
    "import numpy as np\n",
    "import pandas as pd\n",
    "\n",
    "df1 = pd.DataFrame(np.zeros((3,4))*0,columns=['a','b','c','d'])\n",
    "df2 = pd.DataFrame(np.ones((3,4))*1,columns=['a','b','c','d'])\n",
    "df3 = pd.DataFrame(np.ones((3,4))*2,columns=['a','b','c','d'])\n",
    "\n",
    "print(df1)\n",
    "print(df2)\n",
    "print(df3)\n",
    "\n",
    "#concatenating  串联,对上下进行合并\n",
    "res = pd.concat([df1,df2,df3],axis=0)  #将df1，df2，df3的列，串联起来，也就是将列合并起来\n",
    "res1 = pd.concat([df1,df2,df3],axis=0,ignore_index=True) #相对于上一个语句的区别是多了ignore_index忽略index，index相当于行标签，cloumns相当于列标签\n",
    "print(res)\n",
    "print(res1)\n",
    "\n",
    "#对左右进行合并\n",
    "lr = pd.concat([df1,df2,df3],axis=1,ignore_index='columns',join_axes=[df1.index]) #join_axes作用是按照df1的行标签进行合并（df1.index）\n",
    "print(lr)"
   ]
  },
  {
   "cell_type": "code",
   "execution_count": 7,
   "metadata": {},
   "outputs": [
    {
     "name": "stdout",
     "output_type": "stream",
     "text": [
      "     a    b    c    d\n1  0.0  0.0  0.0  0.0\n2  0.0  0.0  0.0  0.0\n3  0.0  0.0  0.0  0.0\n     b    c    d    e\n1  1.0  1.0  1.0  1.0\n2  1.0  1.0  1.0  1.0\n3  1.0  1.0  1.0  1.0\n     b    c    d    e\n2  2.0  2.0  2.0  2.0\n3  2.0  2.0  2.0  2.0\n4  2.0  2.0  2.0  2.0\n     a    b    c    d    e\n1  0.0  0.0  0.0  0.0  NaN\n2  0.0  0.0  0.0  0.0  NaN\n3  0.0  0.0  0.0  0.0  NaN\n1  NaN  1.0  1.0  1.0  1.0\n2  NaN  1.0  1.0  1.0  1.0\n3  NaN  1.0  1.0  1.0  1.0\n     a    b    c    d    e\n0  0.0  0.0  0.0  0.0  NaN\n1  0.0  0.0  0.0  0.0  NaN\n2  0.0  0.0  0.0  0.0  NaN\n3  NaN  1.0  1.0  1.0  1.0\n4  NaN  1.0  1.0  1.0  1.0\n5  NaN  1.0  1.0  1.0  1.0\n     b    c    d\n0  0.0  0.0  0.0\n1  0.0  0.0  0.0\n2  0.0  0.0  0.0\n3  1.0  1.0  1.0\n4  1.0  1.0  1.0\n5  1.0  1.0  1.0\n"
     ]
    }
   ],
   "source": [
    "###15(2).pandas  合并 concat----join\n",
    "import numpy as np\n",
    "import pandas as pd\n",
    "\n",
    "\n",
    "df1 = pd.DataFrame(np.zeros((3,4))*0,columns=['a','b','c','d'],index=['1','2','3'])\n",
    "df2 = pd.DataFrame(np.ones((3,4))*1,columns=['b','c','d','e'],index=['1','2','3'])\n",
    "df3 = pd.DataFrame(np.ones((3,4))*2,columns=['b','c','d','e'],index=['2','3','4'])\n",
    "\n",
    "print(df1)\n",
    "print(df2)\n",
    "print(df3)\n",
    "#join,['inner','outer'],对于df1，df2，df3中有许多不一样的地方，可以使用join功能进行处理，默认的模式是：outer\n",
    "res = pd.concat([df1,df2]) #在axis不指定时默认是0，df1,df2的形状不一样，在合并时会取并集，没有的会自动填充nan（outer）\n",
    "res1 = pd.concat([df1,df2],join='outer',ignore_index=True)\n",
    "res2 = pd.concat([df1,df2],join='inner',ignore_index=True)#join取值为inner时候，是去2个dataframe的交集\n",
    "print(res)\n",
    "print(res1)\n",
    "print(res2)\n",
    "\n",
    "\n",
    "\n",
    "\n"
   ]
  },
  {
   "cell_type": "code",
   "execution_count": 11,
   "metadata": {},
   "outputs": [
    {
     "name": "stdout",
     "output_type": "stream",
     "text": [
      "     a    b    c    d\n0  0.0  0.0  0.0  0.0\n1  0.0  0.0  0.0  0.0\n2  0.0  0.0  0.0  0.0\n     a    b    c    d\n0  1.0  1.0  1.0  1.0\n1  1.0  1.0  1.0  1.0\n2  1.0  1.0  1.0  1.0\n     a    b    c    d\n0  0.0  0.0  0.0  0.0\n1  0.0  0.0  0.0  0.0\n2  0.0  0.0  0.0  0.0\n3  1.0  1.0  1.0  1.0\n4  1.0  1.0  1.0  1.0\n5  1.0  1.0  1.0  1.0\n     a    b    c    d\n0  0.0  0.0  0.0  0.0\n1  0.0  0.0  0.0  0.0\n2  0.0  0.0  0.0  0.0\n3  1.0  2.0  3.0  4.0\n"
     ]
    }
   ],
   "source": [
    "###15(3).pandas  合并 concat----append\n",
    "import numpy as np\n",
    "import pandas as pd\n",
    "\n",
    "\n",
    "\n",
    "df1 = pd.DataFrame(np.ones((3,4))*0,columns=['a','b','c','d'])\n",
    "df2 = pd.DataFrame(np.ones((3,4))*1,columns=['a','b','c','d'])\n",
    "print(df1)\n",
    "print(df2)\n",
    "\n",
    "#append  附加，在原先的数据上加入新的数据，把一个dataframe添加到（append）另一个dataframe上\n",
    "res = df1.append(df2,ignore_index=True)\n",
    "\n",
    "#在一个dataframe上面添加（append）一行或或者一列数据\n",
    "s1 = pd.Series([1,2,3,4],index=['a','b','c','d'])\n",
    "res1  = df1.append(s1,ignore_index=True)\n",
    "\n",
    "print(res)\n",
    "print(res1)\n",
    "\n"
   ]
  },
  {
   "cell_type": "code",
   "execution_count": 13,
   "metadata": {},
   "outputs": [
    {
     "name": "stdout",
     "output_type": "stream",
     "text": [
      "    A   B key\n0  A0  B0  K0\n1  A1  B1  K1\n2  A2  B2  K2\n3  A3  B3  K3\n    C   D key\n0  C0  D0  K0\n1  C1  D1  K1\n2  C2  D2  K2\n3  C3  D3  K3\n    A   B key   C   D\n0  A0  B0  K0  C0  D0\n1  A1  B1  K1  C1  D1\n2  A2  B2  K2  C2  D2\n3  A3  B3  K3  C3  D3\n"
     ]
    }
   ],
   "source": [
    "###16.(1)pandas 合并 merge（合并）--考虑一个key\n",
    "import numpy as np\n",
    "import pandas as pd\n",
    "#字典，dict\n",
    "#merging two df by key/keys(may be used in database)\n",
    "left = pd.DataFrame({'key':['K0','K1','K2','K3'],\n",
    "                     'A':['A0','A1','A2','A3'],\n",
    "                     'B':['B0','B1','B2','B3']})\n",
    "right = pd.DataFrame({'key':['K0','K1','K2','K3'],\n",
    "                      'C':['C0','C1','C2','C3'],\n",
    "                      'D':['D0','D1','D2','D3']})\n",
    "\n",
    "print(left)\n",
    "print(right)\n",
    "\n",
    "res = pd.merge(left,right,on='key')#将dataframe left和 dataframe right 在columns=key上进行合并，意思是将2个columns的key合并成一个\n",
    "print(res)\n",
    "\n"
   ]
  },
  {
   "cell_type": "code",
   "execution_count": 14,
   "metadata": {},
   "outputs": [
    {
     "name": "stdout",
     "output_type": "stream",
     "text": [
      "    A   B key1 key2\n0  A0  B0   K0   K0\n1  A1  B1   K0   K1\n2  A2  B2   K1   K0\n3  A3  B3   K2   K1\n    C   D key1 key2\n0  C0  D0   K0   K0\n1  C1  D1   K1   K0\n2  C2  D2   K1   K0\n3  C3  D3   K2   K0\n    A   B key1 key2   C   D\n0  A0  B0   K0   K0  C0  D0\n1  A2  B2   K1   K0  C1  D1\n2  A2  B2   K1   K0  C2  D2\n    A   B key1 key2   C   D\n0  A0  B0   K0   K0  C0  D0\n1  A2  B2   K1   K0  C1  D1\n2  A2  B2   K1   K0  C2  D2\n     A    B key1 key2    C    D\n0   A0   B0   K0   K0   C0   D0\n1   A1   B1   K0   K1  NaN  NaN\n2   A2   B2   K1   K0   C1   D1\n3   A2   B2   K1   K0   C2   D2\n4   A3   B3   K2   K1  NaN  NaN\n5  NaN  NaN   K2   K0   C3   D3\n    A   B key1 key2    C    D\n0  A0  B0   K0   K0   C0   D0\n1  A1  B1   K0   K1  NaN  NaN\n2  A2  B2   K1   K0   C1   D1\n3  A2  B2   K1   K0   C2   D2\n4  A3  B3   K2   K1  NaN  NaN\n     A    B key1 key2   C   D\n0   A0   B0   K0   K0  C0  D0\n1   A2   B2   K1   K0  C1  D1\n2   A2   B2   K1   K0  C2  D2\n3  NaN  NaN   K2   K0  C3  D3\n"
     ]
    }
   ],
   "source": [
    "###16.(2)pandas 合并 merge（合并）--考虑2个key\n",
    "import numpy as np\n",
    "import pandas as pd\n",
    "#字典，dict\n",
    "#consider two keys\n",
    "left = pd.DataFrame({'key1':['K0','K0','K1','K2'],\n",
    "                     'key2':['K0','K1','K0','K1'],\n",
    "                     'A':['A0','A1','A2','A3'],\n",
    "                     'B':['B0','B1','B2','B3']})\n",
    "right = pd.DataFrame({'key1':['K0','K1','K1','K2'],\n",
    "                      'key2':['K0','K0','K0','K0'],\n",
    "                      'C':['C0','C1','C2','C3'],\n",
    "                      'D':['D0','D1','D2','D3']})\n",
    "\n",
    "print(left)\n",
    "print(right)\n",
    "\n",
    "res = pd.merge(left,right,on=['key1','key2'])#默认值是inner,将dataframe left和 dataframe right 在columns=key1和key2上进行合并，意思是将4个columns的key合并成2个\n",
    "res_inner = pd.merge(left,right,on=['key1','key2'],how='inner')  #交集，不会存在缺失\n",
    "res_outer = pd.merge(left,right,on=['key1','key2'],how='outer')  #并集，缺失的使用nan来填充\n",
    "res_left = pd.merge(left,right,on=['key1','key2'],how='left')    #以左面的left为基准来合并\n",
    "res_right = pd.merge(left,right,on=['key1','key2'],how='right')  #以右面的right为基准来合并\n",
    "\n",
    "print(res)\n",
    "print(res_inner)\n",
    "print(res_outer)\n",
    "print(res_left)\n",
    "print(res_right)"
   ]
  },
  {
   "cell_type": "code",
   "execution_count": 15,
   "metadata": {},
   "outputs": [
    {
     "name": "stdout",
     "output_type": "stream",
     "text": [
      "   col1 col_left\n0     0        a\n1     1        b\n   col1  col_right\n0     1          2\n1     2          2\n2     2          2\n   col1 col_left  col_right\n0     0        a        NaN\n1     1        b        2.0\n2     2      NaN        2.0\n3     2      NaN        2.0\n   col1 col_left  col_right      _merge\n0     0        a        NaN   left_only\n1     1        b        2.0        both\n2     2      NaN        2.0  right_only\n3     2      NaN        2.0  right_only\n   col1 col_left  col_right indicator_column\n0     0        a        NaN        left_only\n1     1        b        2.0             both\n2     2      NaN        2.0       right_only\n3     2      NaN        2.0       right_only\n"
     ]
    }
   ],
   "source": [
    "###16.(3)pandas 合并 merge（合并）---indicator（指示符）\n",
    "\n",
    "import numpy as np\n",
    "import pandas as pd\n",
    "#字典，dict\n",
    "#indicator-指示符\n",
    "df1 = pd.DataFrame({'col1':[0,1],'col_left':['a','b']})\n",
    "df2 = pd.DataFrame({'col1':[1,2,2],'col_right':[2,2,2]})\n",
    "\n",
    "print(df1)\n",
    "print(df2)\n",
    "\n",
    "res = pd.merge(df1,df2,on='col1',how='outer')\n",
    "res1 = pd.merge(df1,df2,on='col1',how='outer',indicator=True) #indicator的作用是指示合并后的dataframe中的元素都来自于哪个dataframe\n",
    "res2 = pd.merge(df1,df2,on='col1',how='outer',indicator='indicator_column') #indicator的默认columns名称是_merge，这里将它改为indicator_columns\n",
    "    #give the indicator a custom name\n",
    "print(res)\n",
    "print(res1)\n",
    "print(res2)"
   ]
  },
  {
   "cell_type": "code",
   "execution_count": 16,
   "metadata": {},
   "outputs": [
    {
     "name": "stdout",
     "output_type": "stream",
     "text": [
      "     A   B\nK0  A0  B0\nK1  A1  B1\nK2  A2  B2\nK3  A3  B3\n     C   D\nK0  C0  D0\nK1  C1  D1\nK2  C2  D2\nK3  C3  D3\n     A   B   C   D\nK0  A0  B0  C0  D0\nK1  A1  B1  C1  D1\nK2  A2  B2  C2  D2\nK3  A3  B3  C3  D3\n     A   B   C   D\nK0  A0  B0  C0  D0\nK1  A1  B1  C1  D1\nK2  A2  B2  C2  D2\nK3  A3  B3  C3  D3\n"
     ]
    }
   ],
   "source": [
    "###16.(4)pandas 合并 merge（合并）---index\n",
    "import numpy as np\n",
    "import pandas as pd\n",
    "\n",
    "# merged by index\n",
    "# columns（列）的名称是A,B，index（行）的名称是K0,K1,K2,K3\n",
    "left = pd.DataFrame({'A':['A0','A1','A2','A3'],\n",
    "                     'B':['B0','B1','B2','B3'],\n",
    "                     },index=['K0','K1','K2','K3'])\n",
    "right = pd.DataFrame({'C':['C0','C1','C2','C3'],\n",
    "                      'D':['D0','D1','D2','D3']},\n",
    "                     index=['K0','K1','K2','K3'])\n",
    "\n",
    "print(left)\n",
    "print(right)\n",
    "\n",
    "#left_index and right_index\n",
    "res = pd.merge(left,right,left_index=True,right_index=True,how='outer')\n",
    "print(res)\n",
    "\n",
    "\n",
    "res1 = pd.merge(left,right,left_index=True,right_index=True,how='inner')\n",
    "print(res1)\n"
   ]
  },
  {
   "cell_type": "code",
   "execution_count": 1,
   "metadata": {},
   "outputs": [
    {
     "name": "stdout",
     "output_type": "stream",
     "text": [
      "  age   k\n0   1  K0\n1   2  K1\n2   3  K2\n  age   k\n0   4  K0\n1   5  K1\n2   6  K2\n  age_boy   k age_girl\n0       1  K0        4\n1       2  K1        5\n2       3  K2        6\n"
     ]
    }
   ],
   "source": [
    "###16.(5)pandas 合并 merge（合并）---handle overlapping 处理重叠\n",
    "import numpy as np\n",
    "import pandas as pd\n",
    "\n",
    "boys = pd.DataFrame({'k':['K0','K1','K2'],'age':['1','2','3']})\n",
    "\n",
    "girls = pd.DataFrame({'k':['K0','K1','K2'],'age':['4','5','6']})\n",
    "\n",
    "res = pd.merge(boys,girls,on='k',suffixes=['_boy','_girl'],how='inner')\n",
    "    #boys和girls这2组数据中都包含‘age’这个列，但他们的数据不相同，因此需要使用suffixes来处理这2组名字相同但包含不同数据的列\n",
    "\n",
    "print(boys)\n",
    "print(girls)\n",
    "print(res)\n"
   ]
  },
  {
   "cell_type": "code",
   "execution_count": 2,
   "metadata": {},
   "outputs": [
    {
     "data": {
      "image/png": "[encoded data removed]",
      "text/plain": [
       "<Figure size 432x288 with 1 Axes>"
      ]
     },
     "metadata": {},
     "output_type": "display_data"
    },
    {
     "name": "stdout",
     "output_type": "stream",
     "text": [
      "          A         B         C         D\n0  0.258892  0.242060  1.135664  0.213059\n1 -0.572100 -1.066977 -0.548535 -0.194096\n2  0.883230  1.385623  0.588848  1.069180\n3  1.000558  0.442318  0.168207  0.178661\n4 -0.739726  1.403235 -0.408210  0.754714\n"
     ]
    },
    {
     "data": {
      "image/png": "[encoded data removed]",
      "text/plain": [
       "<Figure size 432x288 with 1 Axes>"
      ]
     },
     "metadata": {},
     "output_type": "display_data"
    }
   ],
   "source": [
    "###17.使用pandas进行plot画图\n",
    "import pandas as pd\n",
    "import numpy as np\n",
    "import matplotlib.pyplot as plt\n",
    "\n",
    "#plot data\n",
    "#series\n",
    "data = pd.Series(np.random.randn(1000),index=np.arange(1000))\n",
    "data = data.cumsum()  #对1000个数据进行累加\n",
    "data.plot()\n",
    "plt.show()\n",
    "\n",
    "#DataFrame\n",
    "\n",
    "data_f = pd.DataFrame(np.random.randn(1000,4),index=np.arange(1000),columns=list('ABCD'))\n",
    "print(data_f.head())\n",
    "data_f = data_f.cumsum()\n",
    "data_f.plot()\n",
    "plt.show()"
   ]
  },
  {
   "cell_type": "code",
   "execution_count": null,
   "metadata": {},
   "outputs": [],
   "source": []
  }
 ],
 "metadata": {
  "kernelspec": {
   "display_name": "Python 2",
   "language": "python",
   "name": "python2"
  },
  "language_info": {
   "codemirror_mode": {
    "name": "ipython",
    "version": 2
   },
   "file_extension": ".py",
   "mimetype": "text/x-python",
   "name": "python",
   "nbconvert_exporter": "python",
   "pygments_lexer": "ipython2",
   "version": "2.7.6"
  }
 },
 "nbformat": 4,
 "nbformat_minor": 0
}
